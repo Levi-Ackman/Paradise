{
 "cells": [
  {
   "cell_type": "code",
   "execution_count": 1,
   "metadata": {},
   "outputs": [],
   "source": [
    "from data.data_loader import Dataset_ETT_minute,hand_foot"
   ]
  },
  {
   "cell_type": "code",
   "execution_count": 2,
   "metadata": {},
   "outputs": [
    {
     "name": "stdout",
     "output_type": "stream",
     "text": [
      "1595\n",
      "data_x shape:(48, 1)\n"
     ]
    },
    {
     "data": {
      "text/plain": [
       "((48, 1), (24, 1), (48, 1), (24, 1))"
      ]
     },
     "execution_count": 2,
     "metadata": {},
     "output_type": "execute_result"
    }
   ],
   "source": [
    "dataset=hand_foot(root_path='./data/ETT',flag='train',freq='h',timeenc=0)\n",
    "print(len(dataset))\n",
    "x,y,x_hat,y_hat=dataset[1]\n",
    "x.shape,y.shape,x_hat.shape,y_hat.shape"
   ]
  },
  {
   "cell_type": "code",
   "execution_count": 3,
   "metadata": {},
   "outputs": [
    {
     "name": "stdout",
     "output_type": "stream",
     "text": [
      "data_x shape:(48, 1)\n"
     ]
    },
    {
     "data": {
      "text/plain": [
       "((48, 1), (24, 1), (48, 1), (24, 1))"
      ]
     },
     "execution_count": 3,
     "metadata": {},
     "output_type": "execute_result"
    }
   ],
   "source": [
    "dataset=hand_foot(root_path='./data/ETT',flag='val',freq='h',timeenc=0)\n",
    "# print(len(dataset))\n",
    "x,y,x_hat,y_hat=dataset[1]\n",
    "x.shape,y.shape,x_hat.shape,y_hat.shape\n",
    "\n",
    "# dataset.__read_data__()"
   ]
  },
  {
   "cell_type": "code",
   "execution_count": 4,
   "metadata": {},
   "outputs": [
    {
     "data": {
      "text/plain": [
       "array([[ 0.6214565 ],\n",
       "       [ 0.52543995],\n",
       "       [ 1.10153929],\n",
       "       [ 1.19755585],\n",
       "       [ 0.90950618],\n",
       "       [ 1.00552273],\n",
       "       [ 1.05353101],\n",
       "       [ 0.35741097],\n",
       "       [ 1.2935724 ],\n",
       "       [ 0.90950618],\n",
       "       [ 1.65363449],\n",
       "       [ 1.4135931 ],\n",
       "       [ 1.2935724 ],\n",
       "       [ 0.6214565 ],\n",
       "       [ 0.42942339],\n",
       "       [ 0.76548134],\n",
       "       [ 1.05353101],\n",
       "       [ 1.22155999],\n",
       "       [ 1.2935724 ],\n",
       "       [ 0.93351031],\n",
       "       [ 0.64546064],\n",
       "       [ 0.57344823],\n",
       "       [ 0.81348962],\n",
       "       [ 1.12554343],\n",
       "       [ 0.76548134],\n",
       "       [ 0.40541925],\n",
       "       [ 0.0693613 ],\n",
       "       [ 0.30940269],\n",
       "       [ 0.45342753],\n",
       "       [ 0.21338614],\n",
       "       [ 0.0693613 ],\n",
       "       [ 0.11736958],\n",
       "       [ 0.14137372],\n",
       "       [ 0.35741097],\n",
       "       [-0.41072149],\n",
       "       [-0.24269251],\n",
       "       [ 0.02135302],\n",
       "       [-0.38671735],\n",
       "       [-0.31470493],\n",
       "       [-0.29070079],\n",
       "       [-0.45872976],\n",
       "       [-0.33870907],\n",
       "       [-0.26669665],\n",
       "       [-0.31470493],\n",
       "       [-0.43472562],\n",
       "       [-0.4827339 ],\n",
       "       [-0.19468423],\n",
       "       [-0.38671735]])"
      ]
     },
     "execution_count": 4,
     "metadata": {},
     "output_type": "execute_result"
    }
   ],
   "source": [
    "x"
   ]
  }
 ],
 "metadata": {
  "kernelspec": {
   "display_name": "base",
   "language": "python",
   "name": "python3"
  },
  "language_info": {
   "codemirror_mode": {
    "name": "ipython",
    "version": 3
   },
   "file_extension": ".py",
   "mimetype": "text/x-python",
   "name": "python",
   "nbconvert_exporter": "python",
   "pygments_lexer": "ipython3",
   "version": "3.10.9"
  },
  "orig_nbformat": 4
 },
 "nbformat": 4,
 "nbformat_minor": 2
}
